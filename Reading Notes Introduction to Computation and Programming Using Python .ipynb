{
 "metadata": {
  "name": "",
  "signature": "sha256:83f09da7a5bada5cabc74c89719f44709ccd0a6691509462a177bdf4c5f896d8"
 },
 "nbformat": 3,
 "nbformat_minor": 0,
 "worksheets": [
  {
   "cells": [
    {
     "cell_type": "markdown",
     "metadata": {},
     "source": [
      "# Reading Notes: \n",
      "##Introduction to Computation and Programming Using Python (MIT Press)"
     ]
    },
    {
     "cell_type": "markdown",
     "metadata": {},
     "source": [
      "**How to write programs that solve problems.**\n",
      "\n",
      "### 1. A guess-and-check algorithm.\n",
      "\n",
      "How to compute the square root of a number ?\n",
      "\n",
      "Suppose we want to find out the square root of 25.\n",
      "\n",
      "- Set guess value to some arbitrary value, e.g., 3.\n",
      "- 3X3 = 9 is not close enough to 25.\n",
      "- Set guess value to (3 + 25/3)/2 = 5.67.\n",
      "- 5.67 X 5.67 = 32.15 is still not close enough to 25.\n",
      "- Set guess value to (5.67 + 25/5.67)/2 = 5.04.\n",
      "- We decide that 5.04 X 5.04 = 25.4 is close enough, so we stop and declare 5.04 to be an adequate approximation to the square root of 25."
     ]
    },
    {
     "cell_type": "markdown",
     "metadata": {},
     "source": [
      "#### 1.1 Using exhaustive enumeration to approximate square root"
     ]
    },
    {
     "cell_type": "code",
     "collapsed": false,
     "input": [
      "x = 25\n",
      "epsilon = 0.01\n",
      "step = epsilon ** 2\n",
      "numGuesses = 0\n",
      "ans = 0.0\n",
      "while abs(ans**2 - x) >= epsilon and ans <= x:\n",
      "    ans += step\n",
      "    numGuesses += 1\n",
      "print 'numGuesses =', numGuesses\n",
      "\n",
      "if abs(ans**2 - x) >= epsilon:\n",
      "    print 'Failed on square root of', x\n",
      "else:\n",
      "    print ans, 'is close to square root of', x"
     ],
     "language": "python",
     "metadata": {},
     "outputs": [
      {
       "output_type": "stream",
       "stream": "stdout",
       "text": [
        "numGuesses = 49990\n",
        "4.999 is close to square root of 25\n"
       ]
      }
     ],
     "prompt_number": 1
    },
    {
     "cell_type": "markdown",
     "metadata": {},
     "source": [
      "#### 1.2 Using bisection search to approximate square root"
     ]
    },
    {
     "cell_type": "code",
     "collapsed": false,
     "input": [
      "x = 25\n",
      "epsilon = 0.01\n",
      "numGuesses = 0\n",
      "low = 0.0\n",
      "high = max(1.0, x)\n",
      "ans = (high + low)/2.0\n",
      "\n",
      "while abs(ans**2 - x) >= epsilon:\n",
      "    print 'low =', low, 'high =', high, 'ans =', ans\n",
      "    numGuesses += 1\n",
      "    if ans**2 < x:\n",
      "        low = ans\n",
      "    else:\n",
      "        high = ans\n",
      "    ans = (high + low)/2.0\n",
      "print 'numGuesses =', numGuesses\n",
      "print ans, 'is close to square root of', x"
     ],
     "language": "python",
     "metadata": {},
     "outputs": [
      {
       "output_type": "stream",
       "stream": "stdout",
       "text": [
        "low = 0.0 high = 25 ans = 12.5\n",
        "low = 0.0 high = 12.5 ans = 6.25\n",
        "low = 0.0 high = 6.25 ans = 3.125\n",
        "low = 3.125 high = 6.25 ans = 4.6875\n",
        "low = 4.6875 high = 6.25 ans = 5.46875\n",
        "low = 4.6875 high = 5.46875 ans = 5.078125\n",
        "low = 4.6875 high = 5.078125 ans = 4.8828125\n",
        "low = 4.8828125 high = 5.078125 ans = 4.98046875\n",
        "low = 4.98046875 high = 5.078125 ans = 5.029296875\n",
        "low = 4.98046875 high = 5.029296875 ans = 5.0048828125\n",
        "low = 4.98046875 high = 5.0048828125 ans = 4.99267578125\n",
        "low = 4.99267578125 high = 5.0048828125 ans = 4.99877929688\n",
        "low = 4.99877929688 high = 5.0048828125 ans = 5.00183105469\n",
        "numGuesses = 13\n",
        "5.00030517578 is close to square root of 25\n"
       ]
      }
     ],
     "prompt_number": 2
    },
    {
     "cell_type": "markdown",
     "metadata": {},
     "source": [
      "#### 1.3 Using Newton-Raphson method to approximate square root\n",
      "\n",
      "It can be used to find the real roots of many functions.\n",
      "\n",
      "Newton proved a theorem that implies that if a value, call it guess, is an approximation to a root of a polynomial, then **guess - p(guess) / p'(guess)**, where p' is the first derivative of p, is a better approximation."
     ]
    },
    {
     "cell_type": "code",
     "collapsed": false,
     "input": [
      "# find x such that x**2 - 24 is within epsilon of 0\n",
      "# x**2 =24   =>   x**2 - 24 = 0\n",
      "epsilon = 0.01\n",
      "k = 25.0\n",
      "guess = k/2.0\n",
      "num = 0\n",
      "while abs(guess*guess - k) >= epsilon:\n",
      "    guess = guess - (((guess**2) - k) / (2*guess))\n",
      "    num += 1\n",
      "print 'num =', num\n",
      "print 'Square root of', k, 'is about', guess"
     ],
     "language": "python",
     "metadata": {},
     "outputs": [
      {
       "output_type": "stream",
       "stream": "stdout",
       "text": [
        "num = 4\n",
        "Square root of 25.0 is about 5.00001295305\n"
       ]
      }
     ],
     "prompt_number": 3
    },
    {
     "cell_type": "markdown",
     "metadata": {},
     "source": [
      "### 2.  A Few Words About Using Floats"
     ]
    },
    {
     "cell_type": "code",
     "collapsed": false,
     "input": [
      "x = 0.0\n",
      "for i in range(10):\n",
      "    x = x + 0.1\n",
      "if x == 1.0:\n",
      "    print x, '= 1.0'\n",
      "else:\n",
      "    print x, 'is not 1.0'"
     ],
     "language": "python",
     "metadata": {},
     "outputs": [
      {
       "output_type": "stream",
       "stream": "stdout",
       "text": [
        "1.0 is not 1.0\n"
       ]
      }
     ],
     "prompt_number": 4
    },
    {
     "cell_type": "markdown",
     "metadata": {},
     "source": [
      "All modern computer systems represent numbers in binary.\n",
      "\n",
      "What about the decimal fraction 1/10, which we write in Python as 0.1?\n",
      "\n",
      "The best we can do with four significant binary digits is (0011, -101).\n",
      "This is equivalent to 3/32, i.e., 0.09375.\n",
      "\n",
      "If we had five significant binary digits, we would represent 0.1 as (11001, -1000), which is equivalent to 25/256, i.e., 0.09765625.\n",
      "\n",
      "How many significant digits would we need to get an exact floating point representation of 0.1?\n",
      "An infinite number of digits!\n",
      "\n",
      "So no matter how many bits Python chooses to use to represent floating point numbers, it will be able to represent only an approximation to 0.1."
     ]
    },
    {
     "cell_type": "code",
     "collapsed": false,
     "input": [
      "x = 0.0\n",
      "for i in range(10):\n",
      "    x = x + 0.1\n",
      "'''\n",
      "it is better to write abs(x - y) < 0.0001 rather than x == y\n",
      "'''\n",
      "if abs(x - 1.0) < 0.0001:\n",
      "    print x, '= 1.0'\n",
      "else:\n",
      "    print x, 'is not 1.0'"
     ],
     "language": "python",
     "metadata": {},
     "outputs": [
      {
       "output_type": "stream",
       "stream": "stdout",
       "text": [
        "1.0 = 1.0\n"
       ]
      }
     ],
     "prompt_number": 5
    },
    {
     "cell_type": "markdown",
     "metadata": {},
     "source": [
      "### 3. Generalize and reuse code\n",
      "\n",
      "An investment in writing **testing code** often pays big dividends."
     ]
    },
    {
     "cell_type": "code",
     "collapsed": false,
     "input": [
      "# finding an approximation to a root\n",
      "def findRoot(x, power, epsilon):\n",
      "    \"\"\"Assume x and epsilon int or float, power an int,\n",
      "         epsilon > 0 & power >= 1\n",
      "       Returns float y such that y**power is within epsilon of x.\n",
      "       If such a float does not exist, it returns None\"\"\"\n",
      "    if x < 0 and power%2 == 0:\n",
      "        return None\n",
      "    low = min(-1.0, x)\n",
      "    high = max(1.0, x)\n",
      "    ans = (high + low)/2.0\n",
      "    while abs(ans**power - x) >= epsilon:\n",
      "        if ans**power < x:\n",
      "            low = ans\n",
      "        else:\n",
      "            high = ans\n",
      "        ans = (high + low)/2.0\n",
      "    return ans\n",
      "\n",
      "def testFindRoot():\n",
      "    epsilon = 0.0001\n",
      "    for x in (0.25, -0.25, 2, -2, 8, -8):\n",
      "        for power in range(1, 4):\n",
      "            print 'Testing x = ' + str(x) + ' and power = ' + str(power)\n",
      "            result = findRoot(x, power, epsilon)\n",
      "            if result == None:\n",
      "                print '  No root'\n",
      "            else:\n",
      "                print '  ', result**power, '~=', x\n",
      "            \n",
      "testFindRoot()"
     ],
     "language": "python",
     "metadata": {},
     "outputs": [
      {
       "output_type": "stream",
       "stream": "stdout",
       "text": [
        "Testing x = 0.25 and power = 1\n",
        "   0.25 ~= 0.25\n",
        "Testing x = 0.25 and power = 2\n",
        "   0.25 ~= 0.25\n",
        "Testing x = 0.25 and power = 3\n",
        "   0.249907490797 ~= 0.25\n",
        "Testing x = -0.25 and power = 1\n",
        "   -0.25 ~= -0.25\n",
        "Testing x = -0.25 and power = 2\n",
        "  No root\n",
        "Testing x = -0.25 and power = 3\n",
        "   -0.249907490797 ~= -0.25\n",
        "Testing x = 2 and power = 1\n",
        "   1.99990844727 ~= 2\n",
        "Testing x = 2 and power = 2\n",
        "   2.00009063259 ~= 2\n",
        "Testing x = 2 and power = 3\n",
        "   2.00005915565 ~= 2\n",
        "Testing x = -2 and power = 1\n",
        "   -1.99990844727 ~= -2\n",
        "Testing x = -2 and power = 2\n",
        "  No root\n",
        "Testing x = -2 and power = 3\n",
        "   -2.00005915565 ~= -2\n",
        "Testing x = 8 and power = 1\n",
        "   7.99993133545 ~= 8\n",
        "Testing x = 8 and power = 2\n",
        "   7.99999568007 ~= 8\n",
        "Testing x = 8 and power = 3\n",
        "   8.00006866475 ~= 8\n",
        "Testing x = -8 and power = 1\n",
        "   -7.99993133545 ~= -8\n",
        "Testing x = -8 and power = 2\n",
        "  No root\n",
        "Testing x = -8 and power = 3\n",
        "   -8.00006866475 ~= -8\n"
       ]
      }
     ],
     "prompt_number": 6
    },
    {
     "cell_type": "markdown",
     "metadata": {},
     "source": [
      "### 4. Iterative and Recursive"
     ]
    },
    {
     "cell_type": "code",
     "collapsed": false,
     "input": [
      "# Iterative and recursive implementations of factorial\n",
      "\"\"\"\n",
      "1! = 1\n",
      "(n + 1)! = (n + 1) * n!\n",
      "\"\"\"\n",
      "# iterative\n",
      "def factI(n):\n",
      "    \"\"\"\n",
      "    Assumes that n is an int > 0\n",
      "    Returns n!\"\"\"\n",
      "    result = 1\n",
      "    while n >1:\n",
      "        result = result * n\n",
      "        n -= 1\n",
      "    return result\n",
      "\n",
      "# recursive\n",
      "def factR(n):\n",
      "    \"\"\"\n",
      "    Assumes that n is an int > 0\n",
      "    Returns n!\"\"\"\n",
      "    if n == 1:\n",
      "        return n\n",
      "    else:\n",
      "        return n * factR(n - 1)\n"
     ],
     "language": "python",
     "metadata": {},
     "outputs": [],
     "prompt_number": 7
    },
    {
     "cell_type": "markdown",
     "metadata": {},
     "source": [
      "#### 4.1 Fibonacci Numbers\n",
      "\n",
      "\"They breed like rabbits,\" is often used to describe a population that the speaker thinks is growing too quickly.\n",
      "\n",
      "- females(0) = 1\n",
      "- females(1) = 1\n",
      "- females(n + 2) = females(n + 1) + females(n)"
     ]
    },
    {
     "cell_type": "code",
     "collapsed": false,
     "input": [
      "def fib(n):\n",
      "    \"\"\"Assumes n an int >= 0\n",
      "       Returns Fibonacci of n\"\"\"\n",
      "    if n == 0 or n == 1:\n",
      "        return 1\n",
      "    else:\n",
      "        return fib(n-1) + fib(n-2)\n",
      "    \n",
      "def testFib(n):\n",
      "    for i in range(n + 1):\n",
      "        print 'fib of', i, '=', fib(i)\n",
      "        \n",
      "testFib(5)"
     ],
     "language": "python",
     "metadata": {},
     "outputs": [
      {
       "output_type": "stream",
       "stream": "stdout",
       "text": [
        "fib of 0 = 1\n",
        "fib of 1 = 1\n",
        "fib of 2 = 2\n",
        "fib of 3 = 3\n",
        "fib of 4 = 5\n",
        "fib of 5 = 8\n"
       ]
      }
     ],
     "prompt_number": 8
    },
    {
     "cell_type": "code",
     "collapsed": false,
     "input": [
      "# Using a global variable\n",
      "def fib(n):\n",
      "    \"\"\"Assumes n an int >= 0\n",
      "       Returns Fibonacci of n\"\"\"\n",
      "    global numFibCalls\n",
      "    numFibCalls += 1\n",
      "    if n == 0 or n == 1:\n",
      "        return 1\n",
      "    else:\n",
      "        return fib(n-1) + fib(n-2)\n",
      "    \n",
      "def testFib(n):\n",
      "    for i in range(n + 1):\n",
      "        global numFibCalls\n",
      "        numFibCalls = 0\n",
      "        print 'fib of', i, '=', fib(i)\n",
      "        print 'fib called', numFibCalls, 'times.'\n",
      "        \n",
      "testFib(10)"
     ],
     "language": "python",
     "metadata": {},
     "outputs": [
      {
       "output_type": "stream",
       "stream": "stdout",
       "text": [
        "fib of 0 = 1\n",
        "fib called 1 times.\n",
        "fib of 1 = 1\n",
        "fib called 1 times.\n",
        "fib of 2 = 2\n",
        "fib called 3 times.\n",
        "fib of 3 = 3\n",
        "fib called 5 times.\n",
        "fib of 4 = 5\n",
        "fib called 9 times.\n",
        "fib of 5 = 8\n",
        "fib called 15 times.\n",
        "fib of 6 = 13\n",
        "fib called 25 times.\n",
        "fib of 7 = 21\n",
        "fib called 41 times.\n",
        "fib of 8 = 34\n",
        "fib called 67 times.\n",
        "fib of 9 = 55\n",
        "fib called 109 times.\n",
        "fib of 10 = 89\n",
        "fib called 177 times.\n"
       ]
      }
     ],
     "prompt_number": 9
    },
    {
     "cell_type": "markdown",
     "metadata": {},
     "source": [
      "#### 4.2 Palindromes (an example of a problem-solving principle known as divide-and-conquer)\n",
      "\n",
      "A string reads the same way backwards and forwards."
     ]
    },
    {
     "cell_type": "code",
     "collapsed": false,
     "input": [
      "def isPalindrome(s):\n",
      "    \"\"\"Assume s is a str\n",
      "    Returns True if s is a palindrome; False otherwise. \n",
      "    Punctuation marks, blanks, and capitalization are ignored.\"\"\"\n",
      "    def toChars(s):\n",
      "        s = s.lower()\n",
      "        letters = ''\n",
      "        for c in s:\n",
      "            if c in 'abcdefghijklmnopqrstuvwxyz':\n",
      "                letters = letters + c\n",
      "        return letters\n",
      "    \n",
      "    def isPal(s):\n",
      "        print '  isPal called with', s\n",
      "        if len(s) <= 1:\n",
      "            print '  About to return True from base case'\n",
      "            return True\n",
      "        else:\n",
      "            answer = s[0] == s[-1] and isPal(s[1:-1])\n",
      "            print '  About to return', answer, 'for', s\n",
      "            return answer\n",
      "        \n",
      "    return isPal(toChars(s))\n",
      "\n",
      "def testIsPalindrome():\n",
      "    print 'Try dogGod'\n",
      "    print isPalindrome('dogGod')\n",
      "    print 'Try doGood'\n",
      "    print isPalindrome('doGood')\n",
      "    \n",
      "testIsPalindrome()"
     ],
     "language": "python",
     "metadata": {},
     "outputs": [
      {
       "output_type": "stream",
       "stream": "stdout",
       "text": [
        "Try dogGod\n",
        "  isPal called with doggod\n",
        "  isPal called with oggo\n",
        "  isPal called with gg\n",
        "  isPal called with \n",
        "  About to return True from base case\n",
        "  About to return True for gg\n",
        "  About to return True for oggo\n",
        "  About to return True for doggod\n",
        "True\n",
        "Try doGood\n",
        "  isPal called with dogood\n",
        "  isPal called with ogoo\n",
        "  isPal called with go\n",
        "  About to return False for go\n",
        "  About to return False for ogoo\n",
        "  About to return False for dogood\n",
        "False\n"
       ]
      }
     ],
     "prompt_number": 10
    },
    {
     "cell_type": "markdown",
     "metadata": {},
     "source": [
      "### 5. Search Algorithms\n",
      "\n",
      "#### 5.1 Linear Search and Using Indirection to Access Elements\n",
      "\n",
      "Generally speaking, indirection involves accessing something by first accessing something else that contains a reference to the thing initially sought.\n",
      "\n",
      "This is what happens each time we use a variable to refer to the object to which that variable is bound.\n",
      "\n",
      "When we use a variable to access a list and then a reference stored in that list to access another object, we are going through two levels of indirection."
     ]
    },
    {
     "cell_type": "code",
     "collapsed": false,
     "input": [
      "# if an element is in a list\n",
      "# e in L\n",
      "# if the element e is not in the list the algorithm will perform O(len(L)) tests.\n",
      "def search(L, e):\n",
      "    \"\"\"Assumes L is a list.\n",
      "    Returns True if e is in L and False otherwise\"\"\"\n",
      "    for i in range(len(L)):\n",
      "        if L[i] == e:\n",
      "            return True\n",
      "    return False"
     ],
     "language": "python",
     "metadata": {},
     "outputs": [],
     "prompt_number": 11
    },
    {
     "cell_type": "markdown",
     "metadata": {},
     "source": [
      "#### 5.2 Binary Search and Exploiting Assumptions\n",
      "\n",
      "Suppose we know that we have a list of integers stored in ascending order.\n",
      "\n",
      "We could change the implementation so that the search stops when it reaches a number larger than the number for which it is searching."
     ]
    },
    {
     "cell_type": "code",
     "collapsed": false,
     "input": [
      "def search(L, e):\n",
      "    \"\"\"Assumes L is a list, the elements of which are in ascending order.\n",
      "    Returns True if e is in L and False otherwise\"\"\"\n",
      "    for i in range(len(L)):\n",
      "        if L[i] == e:\n",
      "            return True\n",
      "        if L[i] > e:\n",
      "            return False\n",
      "    return False"
     ],
     "language": "python",
     "metadata": {},
     "outputs": [],
     "prompt_number": 12
    },
    {
     "cell_type": "markdown",
     "metadata": {},
     "source": [
      "This would improve the average running time.\n",
      "\n",
      "However, it would not change the worst-case complexity of the algorithm, since in the worst case each element of L is examined.\n",
      "\n",
      "We can, however, get a considerable improvement in the worst-case complexity by using an algorithm, **binary search**, that is similar to the bisection search algorithm.\n",
      "\n",
      "The idea is simple:\n",
      "\n",
      "- Pick an index, i, that divides the list L roughly in half.\n",
      "- Ask if L[i] == e.\n",
      "- If not, ask whether L[i] is larger or smaller than e.\n",
      "- Depending upon the answer, search either the left of right half of L for e."
     ]
    },
    {
     "cell_type": "code",
     "collapsed": false,
     "input": [
      "# recursive binary search\n",
      "def search(L, e):\n",
      "    \"\"\"Assumes L is a list, the elements of which are in ascending order.\n",
      "    Returns True if e is in L and False otherwise\"\"\"\n",
      "    def bSearch(L, e, low, high):\n",
      "        #Decrements high - low\n",
      "        if high == low:\n",
      "            return L[low] == e\n",
      "        mid = (low + high)//2\n",
      "        if L[mid] == e:\n",
      "            return True\n",
      "        elif L[mid] > e:\n",
      "            if low == mid: # nothing left to search\n",
      "                return False\n",
      "            else:\n",
      "                return bSearch(L, e, low, mid - 1)\n",
      "        else:\n",
      "            return bSearch(L, e, mid + 1, high)\n",
      "        \n",
      "    if len(L) == 0:\n",
      "        return False\n",
      "    else:\n",
      "        return bSearch(L, e, 0, len(L) - 1)"
     ],
     "language": "python",
     "metadata": {},
     "outputs": [],
     "prompt_number": 13
    },
    {
     "cell_type": "markdown",
     "metadata": {},
     "source": [
      "### 6. Sorting Algorithms\n",
      "\n",
      "We begin with a simple but inefficient algorithm, **selection sort**.\n",
      "\n",
      "Selection sort, works by maintaining the **loop invariant** that, given a partitioning of the list into a prefix (L[0:i]) and a suffix (L[i+1:len(L)]), the prefix is sorted and no element in the prefix is larger than the smallest element in the suffix.\n",
      "\n",
      "- At the start of the first iteration, the prefix is empty, i.e., the suffix is the entire list.\n",
      "- At each step of the algorithm, we move one element from the suffix to the prefix. We do this by appending a minimum element of the suffix to the end of the prefix.\n",
      "- When the loop is exited, the prefix includes the entire list, and the suffix is empty."
     ]
    },
    {
     "cell_type": "code",
     "collapsed": false,
     "input": [
      "# Selection sort\n",
      "def selSort(L):\n",
      "    \"\"\"Assumes that L is a list of elements that can be compared using >.\n",
      "    Sorts L in ascending order\"\"\"\n",
      "    suffixStart = 0\n",
      "    while suffixStart != len(L):\n",
      "        # look at each element in suffix\n",
      "        for i in range(suffixStart, len(L)):\n",
      "            if L[i] < L[suffixStart]:\n",
      "                # swap position of elements\n",
      "                L[suffixStart], L[i] = L[i], L[suffixStart]\n",
      "        suffixStart += 1"
     ],
     "language": "python",
     "metadata": {},
     "outputs": [],
     "prompt_number": 14
    },
    {
     "cell_type": "markdown",
     "metadata": {},
     "source": [
      "#### 6.1 Merge Sort Using divide-and-conquer algorithm\n",
      "\n",
      "It is most easily described recursively.\n",
      "\n",
      "- If the list is of length 0 or 1, it is already sorted.\n",
      "- If the list has more than one element, split the list into two lists, and use merge sort to sort each of them.\n",
      "- Merge the results.\n",
      "\n",
      "Two sorted lists can be effieiently merged into a single sorted list.\n",
      "\n",
      "The idea is to look at the first element of each list, and move the smaller of the two to the end of the result list."
     ]
    },
    {
     "cell_type": "code",
     "collapsed": false,
     "input": [
      "from IPython.display import Image\n",
      "Image(\"merge_sort.PNG\")"
     ],
     "language": "python",
     "metadata": {},
     "outputs": [
      {
       "metadata": {},
       "output_type": "pyout",
       "png": "[encoded data removed]",
       "prompt_number": 15,
       "text": [
        "<IPython.core.display.Image at 0x3f87f98>"
       ]
      }
     ],
     "prompt_number": 15
    },
    {
     "cell_type": "code",
     "collapsed": false,
     "input": [
      "# merge sort\n",
      "def merge(left, right, compare):\n",
      "    \"\"\"Assumes left and right are sorted lists and \n",
      "    compare defines an ordering on the elements.\n",
      "    Returns a new sorted (by compare) list containing the \n",
      "    same elements as (left + right) would contain.\"\"\"\n",
      "    result = []\n",
      "    i, j = 0, 0\n",
      "    while i < len(left) and j < len(right):\n",
      "        if compare(left[i], right[j]):\n",
      "            result.append(left[i])\n",
      "            i += 1\n",
      "        else:\n",
      "            result.append(right[j])\n",
      "            j += 1\n",
      "    while (i < len(left)):\n",
      "        result.append(left[i])\n",
      "        i += 1\n",
      "    while (j < len(right)):\n",
      "        result.append(right[j])\n",
      "        j += 1\n",
      "    return result\n",
      "\n",
      "import operator\n",
      "\n",
      "def mergeSort(L, compare = operator.lt):\n",
      "    \"\"\"Assumes L is a list, compare defines an ordering on elements of L\n",
      "    Returns a new sorted list containing the same elements as L.\"\"\"\n",
      "    if len(L) < 2:\n",
      "        return L[:]\n",
      "    else:\n",
      "        middle = len(L)//2\n",
      "        left = mergeSort(L[:middle], compare)\n",
      "        right = mergeSort(L[middle:], compare)\n",
      "        return merge(left, right, compare) "
     ],
     "language": "python",
     "metadata": {},
     "outputs": [],
     "prompt_number": 16
    },
    {
     "cell_type": "markdown",
     "metadata": {},
     "source": [
      "#### 6.2 Exploiting Functions as Parameters"
     ]
    },
    {
     "cell_type": "code",
     "collapsed": false,
     "input": [
      "# sorting a list of names\n",
      "def lastNameFirstName(name1, name2):\n",
      "    import string\n",
      "    name1 = string.split(name1, ' ')\n",
      "    name2 = string.split(name2, ' ')\n",
      "    if name1[1] != name2[1]:\n",
      "        return name1[1] < name2[1]\n",
      "    else: # last names the same, sort by first name\n",
      "        return name1[0] < name2[0]\n",
      "    \n",
      "def firstNameLastName(name1, name2):\n",
      "    import string\n",
      "    name1 = string.split(name1, ' ')\n",
      "    name2 = string.split(name2, ' ')\n",
      "    if name1[0] != name2[0]:\n",
      "        return name1[0] < name2[0]\n",
      "    else: # first names the same, sort by last name\n",
      "        return name1[1] < name2[1]\n",
      "    \n",
      "L = ['Chris Terman', 'Tom Brady', 'Eric Grimson', 'Gisele Bundchen']\n",
      "newL = mergeSort(L, lastNameFirstName)\n",
      "print 'Sorted by last name =', newL\n",
      "newL = mergeSort(L, firstNameLastName)\n",
      "print 'Sorted by first name =', newL"
     ],
     "language": "python",
     "metadata": {},
     "outputs": [
      {
       "output_type": "stream",
       "stream": "stdout",
       "text": [
        "Sorted by last name = ['Tom Brady', 'Gisele Bundchen', 'Eric Grimson', 'Chris Terman']\n",
        "Sorted by first name = ['Chris Terman', 'Eric Grimson', 'Gisele Bundchen', 'Tom Brady']\n"
       ]
      }
     ],
     "prompt_number": 17
    },
    {
     "cell_type": "markdown",
     "metadata": {},
     "source": [
      "#### 6.3 Sorting in Python\n",
      "\n",
      "The Python method **list.sort** takes a list as its first argument and modifies that list.\n",
      "\n",
      "In contrast, the Python function **sorted** takes an iterable object (e.g., a list or a dictionary) as its first argument and returns a new sorted list."
     ]
    },
    {
     "cell_type": "code",
     "collapsed": false,
     "input": [
      "L = [3, 5, 2]\n",
      "print 'sorted(L) = ', sorted(L)\n",
      "print 'L = ', L\n",
      "L.sort()\n",
      "print 'After L.sort(), L = ', L"
     ],
     "language": "python",
     "metadata": {},
     "outputs": [
      {
       "output_type": "stream",
       "stream": "stdout",
       "text": [
        "sorted(L) =  [2, 3, 5]\n",
        "L =  [3, 5, 2]\n",
        "After L.sort(), L =  [2, 3, 5]\n"
       ]
      }
     ],
     "prompt_number": 18
    },
    {
     "cell_type": "code",
     "collapsed": false,
     "input": [
      "D = {'a':12, 'c':5, 'b':'dog'}\n",
      "print sorted(D)"
     ],
     "language": "python",
     "metadata": {},
     "outputs": [
      {
       "output_type": "stream",
       "stream": "stdout",
       "text": [
        "['a', 'b', 'c']\n"
       ]
      }
     ],
     "prompt_number": 19
    },
    {
     "cell_type": "markdown",
     "metadata": {},
     "source": [
      "Both the **list.sort** method and the **sorted** function can have two additional parameters.\n",
      "\n",
      "The **key** parameter plays the same role as compare in our implementation of merge sort: it is used to supply the comparison function to be used.\n",
      "\n",
      "The **reverse** parameter specifies whether the list is to be sorted in ascending or descending order."
     ]
    },
    {
     "cell_type": "code",
     "collapsed": false,
     "input": [
      "L = [[1, 2, 3], (3, 2, 1, 0), 'abc']\n",
      "print sorted(L, key = len, reverse = True)"
     ],
     "language": "python",
     "metadata": {},
     "outputs": [
      {
       "output_type": "stream",
       "stream": "stdout",
       "text": [
        "[(3, 2, 1, 0), [1, 2, 3], 'abc']\n"
       ]
      }
     ],
     "prompt_number": 20
    },
    {
     "cell_type": "markdown",
     "metadata": {},
     "source": [
      "### 7. Benford's Distribution\n",
      "\n",
      "Benford's law defines a really strange distribution.\n",
      "\n",
      "Let S be a large set of decimal integers. \n",
      "\n",
      "How frequently would you expect each digit to appear as the first digit?\n",
      "\n",
      "Most of us would probably guess one ninth of the time.\n",
      "\n",
      "And when people are making up sets of numbers (e.g., faking experimental data or perpetrating financial fraud) this is typically true.\n",
      "\n",
      "It is not, however, typically true of many naturally occurring data sets.\n",
      "\n",
      "Instead, they follow a distribution predicted by Benford's law.\n",
      "\n",
      "A set of decimal numbers is said to satisfy Benford's law if the probability of the first digit being d is consistent with P(d) = log10(1 + 1/d).\n",
      "\n",
      "For example, this law predicts that the probability of the first digit being 1 is about 30%!\n",
      "\n",
      "- 1 --- 30.1%\n",
      "- 2 --- 17.6%\n",
      "- 3 --- 12.5%\n",
      "- 4 ---  9.7%\n",
      "- 5 ---  7.9%\n",
      "- 6 ---  6.7%\n",
      "- 7 ---  5.8%\n",
      "- 8 ---  5.1%\n",
      "- 9 ---  4.6%\n",
      "\n",
      "It's less easy to understand why such diverse data sets as iPhone pass codes, the number of Twitter followers per user, the population of countries, or the distance of stars from the earth closely approximate Benford's law."
     ]
    },
    {
     "cell_type": "markdown",
     "metadata": {},
     "source": [
      "### 8. Knapsack Problems\n",
      "\n",
      "#### 8.1 Greedy Algorithms"
     ]
    },
    {
     "cell_type": "code",
     "collapsed": false,
     "input": [
      "# building a set of items with orderings\n",
      "class Item(object):\n",
      "    def __init__(self, n, v, w):\n",
      "        self.name = n\n",
      "        self.value = float(v)\n",
      "        self.weight = float(w)\n",
      "    def getName(self):\n",
      "        return self.name\n",
      "    def getValue(self):\n",
      "        return self.value\n",
      "    def getWeight(self):\n",
      "        return self.weight\n",
      "    def __str__(self):\n",
      "        result = '<' + self.name + ', ' + str(self.value) + ', ' + str(self.weight) + '>'\n",
      "        return result\n",
      "    \n",
      "def value(item):\n",
      "    return item.getValue()\n",
      "\n",
      "def weightInverse(item):\n",
      "    return 1.0/item.getWeight()\n",
      "\n",
      "def density(item):\n",
      "    return item.getValue()/item.getWeight()\n",
      "\n",
      "def buildItems():\n",
      "    names = ['clock', 'painting', 'radio', 'vase', 'book', 'computer']\n",
      "    values = [175, 90, 20, 50, 10, 200]\n",
      "    weights = [10, 9, 4, 2, 1, 20]\n",
      "    Items = []\n",
      "    for i in range(len(values)):\n",
      "        Items.append(Item(names[i], values[i], weights[i]))\n",
      "    return Items"
     ],
     "language": "python",
     "metadata": {},
     "outputs": [],
     "prompt_number": 21
    },
    {
     "cell_type": "code",
     "collapsed": false,
     "input": [
      "print buildItems()[0]"
     ],
     "language": "python",
     "metadata": {},
     "outputs": [
      {
       "output_type": "stream",
       "stream": "stdout",
       "text": [
        "<clock, 175.0, 10.0>\n"
       ]
      }
     ],
     "prompt_number": 22
    },
    {
     "cell_type": "code",
     "collapsed": false,
     "input": [
      "# method \n",
      "buildItems()[0].getName()"
     ],
     "language": "python",
     "metadata": {},
     "outputs": [
      {
       "metadata": {},
       "output_type": "pyout",
       "prompt_number": 23,
       "text": [
        "'clock'"
       ]
      }
     ],
     "prompt_number": 23
    },
    {
     "cell_type": "code",
     "collapsed": false,
     "input": [
      "# function\n",
      "value(buildItems()[0])"
     ],
     "language": "python",
     "metadata": {},
     "outputs": [
      {
       "metadata": {},
       "output_type": "pyout",
       "prompt_number": 24,
       "text": [
        "175.0"
       ]
      }
     ],
     "prompt_number": 24
    },
    {
     "cell_type": "code",
     "collapsed": false,
     "input": [
      "# Using a greedy algorithm to choose items\n",
      "def greedy(items, maxWeight, keyFunction):\n",
      "    \"\"\"Assumes Items a list, maxWeight >= 0,\n",
      "    keyFunction maps elements of Items to floats\"\"\"\n",
      "    itemsCopy = sorted(items, key = keyFunction, reverse = True)\n",
      "    result = []\n",
      "    totalValue = 0.0\n",
      "    totalWeight = 0.0\n",
      "    for i in range(len(itemsCopy)):\n",
      "        if (totalWeight + itemsCopy[i].getWeight()) <= maxWeight:\n",
      "            result.append(itemsCopy[i])\n",
      "            totalWeight += itemsCopy[i].getWeight()\n",
      "            totalValue += itemsCopy[i].getValue()\n",
      "    return (result, totalValue)\n",
      "\n",
      "def testGreedy(items, constraint, keyFunction):\n",
      "    taken, val = greedy(items, constraint, keyFunction)\n",
      "    print 'Total value of items taken = ', val\n",
      "    for item in taken:\n",
      "        print '    ', item\n",
      "\n",
      "def testGreedys(maxWeight = 20):\n",
      "    items = buildItems()\n",
      "    print 'Use greedy by value to fill knapsack of size', maxWeight\n",
      "    testGreedy(items, maxWeight, value)\n",
      "    print '\\nUse greedy by weight to fill knapsack of size', maxWeight\n",
      "    testGreedy(items, maxWeight, weightInverse)\n",
      "    print '\\nUse greedy by density to fill knapsack of size', maxWeight\n",
      "    testGreedy(items, maxWeight, density)"
     ],
     "language": "python",
     "metadata": {},
     "outputs": [],
     "prompt_number": 25
    },
    {
     "cell_type": "code",
     "collapsed": false,
     "input": [
      "testGreedys()"
     ],
     "language": "python",
     "metadata": {},
     "outputs": [
      {
       "output_type": "stream",
       "stream": "stdout",
       "text": [
        "Use greedy by value to fill knapsack of size 20\n",
        "Total value of items taken =  200.0\n",
        "     <computer, 200.0, 20.0>\n",
        "\n",
        "Use greedy by weight to fill knapsack of size 20\n",
        "Total value of items taken =  170.0\n",
        "     <book, 10.0, 1.0>\n",
        "     <vase, 50.0, 2.0>\n",
        "     <radio, 20.0, 4.0>\n",
        "     <painting, 90.0, 9.0>\n",
        "\n",
        "Use greedy by density to fill knapsack of size 20\n",
        "Total value of items taken =  255.0\n",
        "     <vase, 50.0, 2.0>\n",
        "     <clock, 175.0, 10.0>\n",
        "     <book, 10.0, 1.0>\n",
        "     <radio, 20.0, 4.0>\n"
       ]
      }
     ],
     "prompt_number": 26
    },
    {
     "cell_type": "markdown",
     "metadata": {},
     "source": [
      "#### 8.2 A classic optimization problem - 0/1 knapsack problem\n",
      "\n",
      "- Enumerate all possible combinations of items.\n",
      "- Remove all of the combinations whose weight exceeds the allowed weight.\n",
      "- From the remaining combinations choose any one whose value is the largest.\n",
      "\n",
      "Greedy Algorithm often find a locally optimal, not a globally optimal solution.\n",
      "\n",
      "But greedy algorithms are often used in practice, because they are usually easier to implement and more efficient to run than algorithms guaranteed to find optimal solutions."
     ]
    },
    {
     "cell_type": "code",
     "collapsed": false,
     "input": [
      "# Brute-force optimal solution\n",
      "def chooseBest(pset, maxWeight, getVal, getWeight):\n",
      "    bestVal = 0.0\n",
      "    bestSet = None\n",
      "    for items in pset:\n",
      "        itemsVal = 0.0\n",
      "        itemsWeight = 0.0\n",
      "        for item in items:\n",
      "            itemsVal += getVal(item)\n",
      "            itemsWeight += getWeight(item)\n",
      "        if itemsWeight <= maxWeight and itemsVal > bestVal:\n",
      "            bestVal = itemsVal\n",
      "            bestSet = items\n",
      "    return (bestSet, bestVal)\n",
      "\n",
      "def testBest(maxWeight = 20):\n",
      "    items = buildItems()\n",
      "    pset = genPowerset(items)\n",
      "    taken, val = chooseBest(pset, maxWeight, Item.getValue, Item.getWeight)\n",
      "    print 'Total value of items taken =', val\n",
      "    for item in taken:\n",
      "        print item"
     ],
     "language": "python",
     "metadata": {},
     "outputs": [],
     "prompt_number": 27
    },
    {
     "cell_type": "markdown",
     "metadata": {},
     "source": [
      "### 9. Dynamic Programming\n",
      "\n",
      "Dynamic programming is a method for efficiently solving problems that exhibt the characteristics of **overlapping subproblems** and **optimal substructure**.\n",
      "\n",
      "#### 9.1 Fibonacci Sequences"
     ]
    },
    {
     "cell_type": "code",
     "collapsed": false,
     "input": [
      "# Recursive implementation of Fibonacci function\n",
      "def fib(n):\n",
      "    \"\"\"Assumes  n is an int >= 0\n",
      "    Returns Fibonacci of n\"\"\"\n",
      "    if n == 0 or n == 1:\n",
      "        return 1\n",
      "    else:\n",
      "        return fib(n-1) + fib(n-2)"
     ],
     "language": "python",
     "metadata": {},
     "outputs": [],
     "prompt_number": 28
    },
    {
     "cell_type": "code",
     "collapsed": false,
     "input": [
      "Image(\"fib.PNG\")"
     ],
     "language": "python",
     "metadata": {},
     "outputs": [
      {
       "metadata": {},
       "output_type": "pyout",
       "png": "[encoded data removed]",
       "prompt_number": 29,
       "text": [
        "<IPython.core.display.Image at 0x3ff1710>"
       ]
      }
     ],
     "prompt_number": 29
    },
    {
     "cell_type": "markdown",
     "metadata": {},
     "source": [
      "While this implementation of the recurrence is obviously correct, it is terribly inefficient.\n",
      "\n",
      "Given then tiny amount of code in the body of fib, it's clear that the problem must be the number of times that fib calls itself.\n",
      "\n",
      "Notice that we are computing the same values over and over again.\n",
      "\n",
      "It might be a good idea to record the value returned by the fist call, and then look it up rather than compute it each time it is needed.\n",
      "\n",
      "This is called **memorization**, and is the key idea behind dynamic programming."
     ]
    },
    {
     "cell_type": "code",
     "collapsed": false,
     "input": [
      "# Implementing Fibonacci using a memo\n",
      "def fastFib(n, memo = {}):\n",
      "    \"\"\"Assumes n is an int >= 0, memo used only by recursive calls\n",
      "    Returns Fibonacci of n \"\"\"\n",
      "    if n == 0 or n == 1:\n",
      "        return 1\n",
      "    try:\n",
      "        return memo[n]\n",
      "    except KeyError:\n",
      "        result = fastFib(n-1, memo) + fastFib(n-2, memo)\n",
      "        memo[n] = result\n",
      "        return result"
     ],
     "language": "python",
     "metadata": {},
     "outputs": [],
     "prompt_number": 30
    },
    {
     "cell_type": "code",
     "collapsed": false,
     "input": [
      "%time fib(40)"
     ],
     "language": "python",
     "metadata": {},
     "outputs": [
      {
       "output_type": "stream",
       "stream": "stdout",
       "text": [
        "Wall time: 47.7 s\n"
       ]
      },
      {
       "metadata": {},
       "output_type": "pyout",
       "prompt_number": 31,
       "text": [
        "165580141"
       ]
      }
     ],
     "prompt_number": 31
    },
    {
     "cell_type": "code",
     "collapsed": false,
     "input": [
      "%time fastFib(40)"
     ],
     "language": "python",
     "metadata": {},
     "outputs": [
      {
       "output_type": "stream",
       "stream": "stdout",
       "text": [
        "Wall time: 0 ns\n"
       ]
      },
      {
       "metadata": {},
       "output_type": "pyout",
       "prompt_number": 32,
       "text": [
        "165580141"
       ]
      }
     ],
     "prompt_number": 32
    },
    {
     "cell_type": "markdown",
     "metadata": {},
     "source": [
      "#### 9.2 the 0/1 knapsack problem\n",
      "\n",
      "We begin with an exponential solution based on exhaustive enumeration.\n",
      "\n",
      "The key idea is to think about exploring the space of possible solutions by constructing a rooted binary tree that enumerates all states that satisfy the weight constraint."
     ]
    },
    {
     "cell_type": "code",
     "collapsed": false,
     "input": [
      "Image(\"tree.PNG\")"
     ],
     "language": "python",
     "metadata": {},
     "outputs": [
      {
       "metadata": {},
       "output_type": "pyout",
       "png": "[encoded data removed]",
       "prompt_number": 33,
       "text": [
        "<IPython.core.display.Image at 0x3fdbdd8>"
       ]
      }
     ],
     "prompt_number": 33
    },
    {
     "cell_type": "code",
     "collapsed": false,
     "input": [
      "# Using a decision tree to solve a knapsack problem\n",
      "def maxVal(toConsider, avail):\n",
      "    \"\"\"Assumes toConsider a list of items, avail a weight \n",
      "    Returns a tuple of the total weight of a solution to the \n",
      "    0/1 knapsack problem and the items of that solution\"\"\"\n",
      "    if toConsider == [] or avail == 0:\n",
      "        result = (0, ())\n",
      "    elif toConsider[0].getWeight() > avail:\n",
      "        # explore right branch only\n",
      "        result = maxVal(toConsider[1:], avail)\n",
      "    else:\n",
      "        nextItem = toConsider[0]\n",
      "        # explore left branch\n",
      "        withVal, withToTake = maxVal(toConsider[1:], \n",
      "                                     avail - nextItem.getWeight())\n",
      "        withVal += nextItem.getValue()        \n",
      "        # explore right branch\n",
      "        withoutVal, withoutToTake = maxVal(toConsider[1:], \n",
      "                                     avail)\n",
      "        # choose better branch\n",
      "        if withVal > withoutVal:\n",
      "            result = (withVal, withToTake + (nextItem,))\n",
      "        else:\n",
      "            result = (withoutVal, withoutToTake)\n",
      "    return result\n",
      "        \n",
      "def smallTest():\n",
      "    names = ['a', 'b', 'c', 'd']\n",
      "    vals = [6, 7, 8, 9]\n",
      "    weights = [3, 3, 2, 5]\n",
      "    Items = []\n",
      "    for i in range(len(vals)):\n",
      "        Items.append(Item(names[i], vals[i], weights[i]))\n",
      "    val, taken = maxVal(Items, 5)\n",
      "    for item in taken:\n",
      "        print item\n",
      "    print 'Total value of items taken =', val"
     ],
     "language": "python",
     "metadata": {},
     "outputs": [],
     "prompt_number": 34
    },
    {
     "cell_type": "code",
     "collapsed": false,
     "input": [
      "smallTest()"
     ],
     "language": "python",
     "metadata": {},
     "outputs": [
      {
       "output_type": "stream",
       "stream": "stdout",
       "text": [
        "<c, 8.0, 2.0>\n",
        "<b, 7.0, 3.0>\n",
        "Total value of items taken = 15.0\n"
       ]
      }
     ],
     "prompt_number": 35
    },
    {
     "cell_type": "code",
     "collapsed": false,
     "input": [
      "# Testing the decision tree-based implementation\n",
      "def buildManyItems(numItems, maxVal, maxWeight):\n",
      "    items = []\n",
      "    import random\n",
      "    for i in range(numItems):\n",
      "        items.append(Item(str(i), random.randint(1, maxVal), \n",
      "                          random.randint(1, maxWeight)))\n",
      "    return items\n",
      "\n",
      "def bigTest(numItems):\n",
      "    items = buildManyItems(numItems, 10, 10)\n",
      "    val, taken = maxVal(items, 40)\n",
      "    print 'Items Taken'\n",
      "    for item in taken:\n",
      "        print item\n",
      "    print 'Total value of items taken =', val\n",
      "    "
     ],
     "language": "python",
     "metadata": {},
     "outputs": [],
     "prompt_number": 36
    },
    {
     "cell_type": "code",
     "collapsed": false,
     "input": [
      "bigTest(10)"
     ],
     "language": "python",
     "metadata": {},
     "outputs": [
      {
       "output_type": "stream",
       "stream": "stdout",
       "text": [
        "Items Taken\n",
        "<8, 7.0, 6.0>\n",
        "<7, 9.0, 9.0>\n",
        "<6, 9.0, 10.0>\n",
        "<4, 5.0, 6.0>\n",
        "<3, 7.0, 3.0>\n",
        "<0, 8.0, 6.0>\n",
        "Total value of items taken = 45.0\n"
       ]
      }
     ],
     "prompt_number": 37
    },
    {
     "cell_type": "code",
     "collapsed": false,
     "input": [
      "# Dynamic programming solution to knapsack problem\n",
      "def fastMaxVal(toConsider, avail, memo = {}):\n",
      "    \"\"\"Assumes toConsider a list of items, avail a weight,\n",
      "    memo used only by recursive calls,\n",
      "    Returns a tuple of the total weight of a solution to the \n",
      "    0/1 knapsack problem and the items of that solution\"\"\"\n",
      "    if (len(toConsider), avail) in memo:\n",
      "        result = memo[(len(toConsider), avail)]\n",
      "    elif toConsider == [] or avail == 0:\n",
      "        result = (0, ())\n",
      "    elif toConsider[0].getWeight() > avail:\n",
      "        # explore right branch only\n",
      "        result = fastMaxVal(toConsider[1:], avail, memo)\n",
      "    else:\n",
      "        nextItem = toConsider[0]\n",
      "        # explore left branch\n",
      "        withVal, withToTake = fastMaxVal(toConsider[1:], \n",
      "                                     avail - nextItem.getWeight(), memo)\n",
      "        withVal += nextItem.getValue()        \n",
      "        # explore right branch\n",
      "        withoutVal, withoutToTake = fastMaxVal(toConsider[1:], \n",
      "                                     avail, memo)\n",
      "        # choose better branch\n",
      "        if withVal > withoutVal:\n",
      "            result = (withVal, withToTake + (nextItem,))\n",
      "        else:\n",
      "            result = (withoutVal, withoutToTake)\n",
      "    memo[(len(toConsider), avail)] = result\n",
      "    return result"
     ],
     "language": "python",
     "metadata": {},
     "outputs": [],
     "prompt_number": 38
    },
    {
     "cell_type": "markdown",
     "metadata": {},
     "source": [
      "Like divide-and-conquer algorithms, dynamic programming is based upon solving independent subproblems and then combining those solutions.\n",
      "\n",
      "There are, however, some important differences.\n",
      "\n",
      "Divide-and-conquer algorithms are based upon finding subproblems that are **substantially smaller** than the original problem.\n",
      "\n",
      "For example, merge sort works by dividing the problem size in half at each step.\n",
      "\n",
      "In contrast, dynamic programming involves solving problems that are only **slightly smaller** then the original problem.\n",
      "\n",
      "For example, computing the 19th Fibnacci number is not a substantially smaller problem than computing the 20th Fibonacci number."
     ]
    },
    {
     "cell_type": "markdown",
     "metadata": {},
     "source": [
      "This is a good book.\n",
      "\n",
      "The primary knowledge we should take away from this book is **the art of computational problem solving**."
     ]
    }
   ],
   "metadata": {}
  }
 ]
}